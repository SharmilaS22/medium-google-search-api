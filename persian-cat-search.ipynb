{
 "cells": [
  {
   "cell_type": "code",
   "execution_count": 2,
   "id": "adopted-corrections",
   "metadata": {},
   "outputs": [],
   "source": [
    "import os"
   ]
  },
  {
   "cell_type": "code",
   "execution_count": 3,
   "id": "indie-budapest",
   "metadata": {},
   "outputs": [],
   "source": [
    "# get key from ENV variable\n",
    "key = os.environ.get('GCS_DEVELOPER_KEY')\n",
    "cx  = os.environ.get('GCS_CX') "
   ]
  },
  {
   "cell_type": "markdown",
   "id": "sudden-nevada",
   "metadata": {},
   "source": [
    "### Get images from google image search api"
   ]
  },
  {
   "cell_type": "code",
   "execution_count": 8,
   "id": "built-amendment",
   "metadata": {},
   "outputs": [],
   "source": [
    "# https://pypi.org/project/Google-Images-Search/"
   ]
  },
  {
   "cell_type": "code",
   "execution_count": 9,
   "id": "sunset-giving",
   "metadata": {},
   "outputs": [],
   "source": [
    "# google image search\n",
    "from google_images_search import GoogleImagesSearch\n",
    "\n",
    "# you can provide API key and CX using arguments,\n",
    "# or you can set environment variables: GCS_DEVELOPER_KEY, GCS_CX\n",
    "gis = GoogleImagesSearch(key, cx)"
   ]
  },
  {
   "cell_type": "code",
   "execution_count": 10,
   "id": "elegant-consultation",
   "metadata": {},
   "outputs": [],
   "source": [
    "# search param for Persian cat\n",
    "_search_params = {\n",
    "    'q'       : 'Persian Cat',\n",
    "    'num'     : 10,\n",
    "    'safe'    : 'high',\n",
    "    'fileType': 'jpg|png',\n",
    "    'imgType' : 'photo',\n",
    "}"
   ]
  },
  {
   "cell_type": "code",
   "execution_count": 12,
   "id": "meaningful-heating",
   "metadata": {},
   "outputs": [],
   "source": [
    "# search first, then download and resize afterwards:\n",
    "gis.search(search_params=_search_params,  custom_image_name='persian')\n",
    "for image in gis.results():\n",
    "    image.download('/images/persian') #download images to the directory\n",
    "    image.resize(500, 500) # resize image"
   ]
  },
  {
   "cell_type": "code",
   "execution_count": 14,
   "id": "deluxe-arrangement",
   "metadata": {},
   "outputs": [
    {
     "data": {
      "text/plain": [
       "['persian(1).jpg',\n",
       " 'persian(2).jpg',\n",
       " 'persian(3).jpg',\n",
       " 'persian(4).jpg',\n",
       " 'persian(5).jpg',\n",
       " 'persian(6).jpg',\n",
       " 'persian(7).jpg',\n",
       " 'persian(8).jpg',\n",
       " 'persian(9).jpg',\n",
       " 'persian.jpg']"
      ]
     },
     "execution_count": 14,
     "metadata": {},
     "output_type": "execute_result"
    }
   ],
   "source": [
    "os.listdir('/images/persian')"
   ]
  },
  {
   "cell_type": "markdown",
   "id": "decimal-sweet",
   "metadata": {},
   "source": [
    "_Happy Learning!_"
   ]
  }
 ],
 "metadata": {
  "kernelspec": {
   "display_name": "Python 3",
   "language": "python",
   "name": "python3"
  },
  "language_info": {
   "codemirror_mode": {
    "name": "ipython",
    "version": 3
   },
   "file_extension": ".py",
   "mimetype": "text/x-python",
   "name": "python",
   "nbconvert_exporter": "python",
   "pygments_lexer": "ipython3",
   "version": "3.7.0"
  }
 },
 "nbformat": 4,
 "nbformat_minor": 5
}
